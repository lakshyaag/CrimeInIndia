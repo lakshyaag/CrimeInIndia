{
 "cells": [
  {
   "cell_type": "code",
   "execution_count": 225,
   "metadata": {},
   "outputs": [],
   "source": [
    "library(bbplot)\n",
    "library(tidyverse)\n",
    "library(dplyr)"
   ]
  },
  {
   "cell_type": "code",
   "execution_count": 227,
   "metadata": {},
   "outputs": [],
   "source": [
    "# No. of incidents\n",
    "\n",
    "crime <- read.csv('crime.csv')\n",
    "\n",
    "crime <- crime %>% select(2, colnames(crime)[colnames(crime) %>% str_detect('(I\\\\.\\\\.Col)')])\n",
    "colnames(crime) <- colnames(crime) %>% str_remove_all('....(I\\\\.\\\\.Col).*$') %>% str_remove_all('^O.*?(\\\\.\\\\.\\\\.)') %>% str_remove_all('..Col.*')\n",
    "colnames(crime)[72] = 'Other IPC Crimes'\n",
    "\n",
    "colnames(crime) <- colnames(crime) %>% str_replace_all('(\\\\.\\\\.)', '-') %>% str_replace_all('\\\\.', ' ')\n",
    "\n",
    "crime <- crime %>% select(1, colnames(crime)[colnames(crime) %>% str_detect('IPC')])\n",
    "\n",
    "incident_crime <- crime %>% gather(key='crime', value = 'incidents', -`State UT`)"
   ]
  },
  {
   "cell_type": "code",
   "execution_count": 228,
   "metadata": {},
   "outputs": [],
   "source": [
    "# No. of victims\n",
    "\n",
    "crime <- read.csv('crime.csv')\n",
    "\n",
    "crime <- crime %>% select(2, colnames(crime)[colnames(crime) %>% str_detect('(V\\\\.\\\\.Col)')])\n",
    "colnames(crime) <- colnames(crime) %>% str_remove_all('....(V\\\\.\\\\.Col).*$') %>% str_remove_all('^O.*?(\\\\.\\\\.\\\\.)') %>% str_remove_all('..Col.*')\n",
    "colnames(crime)[71] = 'Other IPC Crimes'\n",
    "\n",
    "colnames(crime) <- colnames(crime) %>% str_replace_all('(\\\\.\\\\.)', '-') %>% str_replace_all('\\\\.', ' ')\n",
    "\n",
    "crime <- crime %>% select(1, colnames(crime)[colnames(crime) %>% str_detect('IPC')])\n",
    "\n",
    "victim_crime <- crime %>% gather(key='crime', value = 'victims', -`State UT`)"
   ]
  },
  {
   "cell_type": "code",
   "execution_count": 246,
   "metadata": {},
   "outputs": [
    {
     "name": "stderr",
     "output_type": "stream",
     "text": [
      "Joining, by = c(\"State UT\", \"crime\")\n"
     ]
    }
   ],
   "source": [
    "crime_2016 <- full_join(incident_crime, victim_crime) %>% rename('state'= `State UT`)"
   ]
  },
  {
   "cell_type": "code",
   "execution_count": 247,
   "metadata": {},
   "outputs": [],
   "source": [
    "crime_2016 %>% write.csv('crime_2016_tidy.csv', row.names=F)"
   ]
  }
 ],
 "metadata": {
  "kernelspec": {
   "display_name": "R",
   "language": "R",
   "name": "ir"
  },
  "language_info": {
   "codemirror_mode": "r",
   "file_extension": ".r",
   "mimetype": "text/x-r-source",
   "name": "R",
   "pygments_lexer": "r",
   "version": "3.6.1"
  }
 },
 "nbformat": 4,
 "nbformat_minor": 2
}
